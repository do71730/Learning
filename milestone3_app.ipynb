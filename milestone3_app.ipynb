{
  "nbformat": 4,
  "nbformat_minor": 0,
  "metadata": {
    "colab": {
      "name": "milestone3 app.ipynb",
      "provenance": [],
      "collapsed_sections": [],
      "authorship_tag": "ABX9TyNUej8x+bozqn3ApNYLnMcF",
      "include_colab_link": true
    },
    "kernelspec": {
      "name": "python3",
      "display_name": "Python 3"
    },
    "language_info": {
      "name": "python"
    }
  },
  "cells": [
    {
      "cell_type": "markdown",
      "metadata": {
        "id": "view-in-github",
        "colab_type": "text"
      },
      "source": [
        "<a href=\"https://colab.research.google.com/github/do71730/Learning/blob/main/milestone3_app.ipynb\" target=\"_parent\"><img src=\"https://colab.research.google.com/assets/colab-badge.svg\" alt=\"Open In Colab\"/></a>"
      ]
    },
    {
      "cell_type": "markdown",
      "source": [
        "# DIVOC-91 INTERFACE\n",
        "\n",
        "App will close connect after executing a function, from user. if you want to see how the database change after running the app run the sql magic cells after changing the table name.To delete the database, close colab."
      ],
      "metadata": {
        "id": "ZmEum33kA80O"
      }
    },
    {
      "cell_type": "code",
      "execution_count": null,
      "metadata": {
        "id": "Knnbm8RdlRku",
        "colab": {
          "base_uri": "https://localhost:8080/"
        },
        "outputId": "d17f90ac-29b1-4883-de0c-7f003bddcb99"
      },
      "outputs": [
        {
          "output_type": "execute_result",
          "data": {
            "text/plain": [
              "<sqlite3.Cursor at 0x7f41e3e4f0a0>"
            ]
          },
          "metadata": {},
          "execution_count": 59
        }
      ],
      "source": [
        "# tableschema = 'dovi'\n",
        "import  sqlite3\n",
        "conn  =  sqlite3 .connect( 'mydatabase.db' )\n",
        "cursor  =  conn.cursor ()\n",
        "\n",
        "cursor.executescript(\"\"\"\n",
        "\n",
        "    drop table if exists dispatch;\n",
        "    drop table if exists modification;\n",
        "    drop table if exists vaccine_order;\n",
        "    drop table if exists chief;\n",
        "    drop table if exists staff;\n",
        "    drop table if exists Registration;\n",
        "    drop table if exists residency;\n",
        "    drop table if exists folks;\n",
        "    drop table if exists health_center;\n",
        "    drop table if exists places;\n",
        "    drop trigger if exists update_staff;\n",
        "    drop trigger if exists update_folks;\n",
        "    drop trigger if exists update_place;\n",
        "    drop trigger if exists update_health_center;\n",
        "    drop trigger if exists new_registration;\n",
        "    drop trigger if exists insert_mod;\n",
        "\n",
        "    create table if not exists folks (\n",
        "    PIN bigint not null check(PIN >= 1000000000000000 and PIN <= 9999999999999999),\n",
        "    first_name varchar(25),\n",
        "    last_name varchar(25),\n",
        "    DOB date,\n",
        "    work_phone bigint check (work_phone >= 1000000000 and work_phone <= 9999999999),\n",
        "    mobile_phone bigint check (mobile_phone >= 1000000000 and mobile_phone <= 9999999999),\n",
        "    home_phone bigint check (home_phone >= 1000000000 and home_phone <= 9999999999),\n",
        "    email json,\n",
        "    primary key(PIN)\n",
        "    );\n",
        "\n",
        "\n",
        "    create table if not exists staff(\n",
        "    S_PIN bigint not null check(S_PIN >= 1000000000000000 and S_PIN <= 9999999999999999),\n",
        "    primary key(S_PIN),\n",
        "    foreign key (S_PIN) references folks(PIN) ON DELETE CASCADE\n",
        "    );\n",
        "\n",
        "    create table if not exists chief(\n",
        "    C_PIN bigint not null check(C_PIN >= 1000000000000000 and C_PIN <= 9999999999999999),\n",
        "    primary key(C_PIN),\n",
        "    foreign key (C_PIN) references staff(S_PIN) ON DELETE CASCADE\n",
        "    );\n",
        "\n",
        "    /* all the places*/\n",
        "    create table if not exists places(\n",
        "    street_number integer not null,\n",
        "    name varchar(25) not null ,\n",
        "    city varchar(25) not null,\n",
        "    state varchar(25) not null,\n",
        "    zipCode int not null, \n",
        "    x_cord int not null,\n",
        "    y_cord int not null,\n",
        "    primary key(street_number,name,city,state,zipCode),\n",
        "    unique(x_cord,y_cord)\n",
        "    );\n",
        "\n",
        "\n",
        "    create table if not exists residency(\n",
        "    x_cord int not null,\n",
        "    y_cord int not null,\n",
        "    PIN bigint not null check(PIN >= 1000000000000000 and PIN <= 9999999999999999),\n",
        "    foreign key(x_cord,y_cord) references places (x_cord,y_cord) ON DELETE CASCADE,\n",
        "    foreign key (PIN) references folks(PIN) ON DELETE CASCADE\n",
        "    );\n",
        "\n",
        "\n",
        "    create table if not exists health_center (\n",
        "    hc_date date not null,\n",
        "    x_cord int not null,\n",
        "    y_cord int not null,\n",
        "    max_capacity int not null,\n",
        "    curr_size int,\n",
        "    constraint size check (curr_size <= max_capacity),\n",
        "    primary key(hc_date,x_cord,y_cord),\n",
        "    foreign key(x_cord,y_cord) references places (x_cord,y_cord) ON DELETE CASCADE);\n",
        "\n",
        "\n",
        "    create table if not exists registration(\n",
        "    PIN bigint not null check(PIN >= 1000000000000000 and PIN <= 9999999999999999),\n",
        "    r_date date not null,\n",
        "    x_cord int not null,\n",
        "    y_cord int not null,\n",
        "    primary key(PIN, r_date),\n",
        "    foreign key(r_date,x_cord,y_cord) references health_center (hc_date,x_cord,y_cord)  ON DELETE CASCADE,\n",
        "    foreign key (PIN) references folks(PIN) ON DELETE CASCADE\n",
        "    );\n",
        "\n",
        "    create table if not exists dispatch(\n",
        "    dDay date not null,\n",
        "    start_time time not null,\n",
        "    end_time time not null,\n",
        "    S_PIN bigint not null check(S_PIN >= 1000000000000000 and S_PIN <= 9999999999999999),\n",
        "    x_cord int not null,\n",
        "    y_cord int not null,\n",
        "    C_PIN bigint not null check(C_PIN >= 1000000000000000 and C_PIN <= 9999999999999999),\n",
        "    primary key(dDay,start_time,end_time,x_cord,y_cord,S_PIN),\n",
        "    foreign key(dDay,x_cord,y_cord) references health_center (hc_date,x_cord,y_cord)  ON DELETE CASCADE,\n",
        "    foreign key (S_PIN) references staff(S_PIN) ON DELETE CASCADE,\n",
        "    foreign key (C_PIN) references chief(C_PIN) ON DELETE CASCADE\n",
        "    );\n",
        "\n",
        "    create table if not exists vaccine_order (\n",
        "    PIN bigint not null check(PIN >= 1000000000000000 and PIN <= 9999999999999999),\n",
        "    order_num int not null,\n",
        "    num_vacinne int not null,\n",
        "    order_date datetime not null,\n",
        "    delivery_date date not null,\n",
        "    x_cord int not null,\n",
        "    y_cord int not null,\n",
        "    primary key(order_num),\n",
        "    foreign key (PIN) references staff(S_PIN) ON DELETE CASCADE,\n",
        "    foreign key(delivery_date,x_cord,y_cord) references health_center (hc_date,x_cord,y_cord) ON DELETE CASCADE );\n",
        "\n",
        "    create table if not exists modification (\n",
        "    mod_timestamp datetime,\n",
        "    m_PIN bigint check(m_PIN >= 1000000000000000 and m_PIN <= 9999999999999999),\n",
        "    order_num int not null,\n",
        "    foreign key (m_PIN) references staff(S_PIN) ON DELETE CASCADE,\n",
        "    foreign key (order_num) references vaccine_order(order_num) ON DELETE CASCADE);\n",
        "\n",
        "    CREATE TRIGGER update_folks AFTER UPDATE ON folks BEGIN\n",
        "  \t\tUPDATE staff SET  S_PIN = new.PIN WHERE S_PIN = old.PIN;\n",
        "\t\t\tUPDATE chief SET  C_PIN = new.PIN WHERE C_PIN = old.PIN;\n",
        "\t\t\tUPDATE registration SET  PIN = new.PIN WHERE PIN = old.PIN;\n",
        "\t\t\tUPDATE residency SET  PIN = new.PIN WHERE PIN = old.PIN;\n",
        "      \n",
        "\t\tEND; \n",
        "\n",
        "    CREATE TRIGGER update_staff AFTER UPDATE ON staff BEGIN\n",
        "      UPDATE modification SET  m_PIN = new.S_PIN WHERE m_PIN = old.S_PIN;\n",
        "      UPDATE vaccine_order SET  PIN = new.S_PIN WHERE PIN = old.S_PIN;\n",
        "    END;\n",
        "\n",
        "    CREATE TRIGGER update_place AFTER UPDATE ON places BEGIN\n",
        "      UPDATE health_center SET  x_cord = new.x_cord, y_cord = new.y_cord WHERE y_cord = old.y_cord and x_cord = y_cord;\n",
        "      UPDATE residency SET  x_cord = new.x_cord, y_cord = new.y_cord WHERE y_cord = old.y_cord and x_cord = y_cord;\n",
        "      UPDATE vaccine_order SET  x_cord = new.x_cord, y_cord = new.y_cord WHERE y_cord = old.y_cord and x_cord = y_cord;\n",
        "      UPDATE dispatch SET  x_cord = new.x_cord, y_cord = new.y_cord WHERE y_cord = old.y_cord and x_cord = y_cord;\n",
        "      UPDATE registration SET  x_cord = new.x_cord, y_cord = new.y_cord WHERE y_cord = old.y_cord and x_cord = y_cord; \n",
        "    END;\n",
        "\n",
        "    CREATE TRIGGER update_health_center AFTER UPDATE ON health_center BEGIN\n",
        "      UPDATE vaccine_order SET  x_cord = new.x_cord, y_cord = new.y_cord WHERE y_cord = old.y_cord and x_cord = y_cord;\n",
        "      UPDATE dispatch SET  x_cord = new.x_cord, y_cord = new.y_cord WHERE y_cord = old.y_cord and x_cord = y_cord;\n",
        "      UPDATE registration SET  x_cord = new.x_cord, y_cord = new.y_cord WHERE y_cord = old.y_cord and x_cord = y_cord; \n",
        "    END;\n",
        "\n",
        "\n",
        "    CREATE TRIGGER new_registration AFTER INSERT ON registration BEGIN\n",
        "      UPDATE health_center SET  curr_size = (select count(PIN) from registration where health_center.x_cord = registration.x_cord AND health_center.y_cord = registration.y_cord) WHERE \n",
        "      health_center.x_cord=x_cord and health_center.y_cord = y_cord;\n",
        "      UPDATE vaccine_order SET num_vacinne = (SELECT curr_size from health_center WHERE health_center.x_cord = vaccine_order.x_cord AND health_center.y_cord = vaccine_order.y_cord) WHERE \n",
        "      vaccine_order.x_cord=x_cord AND vaccine_order.y_cord = y_cord;\n",
        "    END;\n",
        "\n",
        "    CREATE TRIGGER insert_mod AFTER UPDATE ON vaccine_order BEGIN\n",
        "      INSERT INTO modification (mod_timestamp,m_PIN,order_num)values (datetime('now'),8718892831442613,new.order_num);\n",
        "    \n",
        "    END;\n",
        "\n",
        "    CREATE INDEX index_folks ON folks(first_name,last_name);\n",
        " \"\"\")\n",
        "\n"
      ]
    },
    {
      "cell_type": "code",
      "source": [
        "\n",
        "cursor.executescript(\"\"\"\n",
        "\t\t\n",
        "\n",
        "\t\tdelete from folks;\n",
        "\t\tdelete from chief;\n",
        "\t\tdelete from staff;\n",
        "\t\tdelete from places;\n",
        "\t\tdelete from health_center;\n",
        "\t\tdelete from residency;\n",
        "\t\tdelete from registration;\n",
        "\t\tdelete from dispatch;\n",
        "\t\tdelete from modification;\n",
        "\t\tdelete from vaccine_order;\n",
        "\n",
        "\t\tinsert into folks values (8718892831442613,'Jin-Woo','Sung','1990-10-02',9634420282,1491675758,4023244311,'[\"ShadowMonarch@solo.manhwa\"]');\n",
        "\t\tinsert into folks values (7641563892621998,'Yeon-Woo','Cha','1994-11-05',5250596029,2080628944,5468156963,'[\"chaY2nd@slr.manhwa\"]');\n",
        "\t\tinsert into folks values (7474862335619533,'Jeon-Woo','Cha','1994-05-11',7429378598,6363143632,9757867003,'[\"chaY1st@slr.manhwa\"]');\n",
        "\t\tinsert into folks values (4953499291449932,'Hae-In','Cha','2000-02-29',3631645069,6200037951,2453910037,'[\"chacha@solo.manhwa\"]');\n",
        "\t\tinsert into folks values (6708015069552521,'Yeo-Woon','Cheon','1990-01-11',8982307551,7866558277,7746596547,'[\"yeo@nm.manhwa\"]');\n",
        "\t\tinsert into folks values (3673594352062092,'Mun','Ku','1991-01-15',4218582070,6322800783,4158609493,'[\"ku@nm.manhwa\"]');\n",
        "\t\tinsert into folks values (8164679740878734,'Florentia','Lombardi','1991-07-07',8894492760,8764707276,9100576041,'[\"matriarch@ismtf.manhwa\"]');\n",
        "\t\tinsert into folks values (9448508654753811,'Perez Brivacheu','Durelli','1991-08-28',1160134390,5398208359,8089194136,'[\"crownPrince@ismtf.manhwa\"]');\n",
        "\t\tinsert into folks values (6555023229037065,'Hae-Won','Tang','1994-09-29',9876781922,5539458702,5047221054,'[\"masterTang@mvti.manhwa\"]');\n",
        "\t\tinsert into folks values (7940937800426551,'Seo-Cheon','Joo','1990-12-24',2271894014,4751187597,6715769167,'[\"swordDragon@mhs.manhwa\",\"PhantomDemon@mhs.manhwa\"]');\n",
        "\t\tinsert into folks values (6469128022378393,'Jeong-Mok','Yu','1988-05-17',8957066088,9347957314,6452792062,'[\"master@mhs.manhwa\"]');\n",
        "\t\tinsert into folks values (4981840260436699,'Hye','Tang','1989-06-06',7486245317,6019398201,2475885742,'[\"tangtang@mhs.manhwa\"]');\n",
        "\t\tinsert into folks values (9555023229037065,'Hye','Tang','1989-06-06',8486245317,9019398201,3475885742,'[\"hyetang@mhs.manha\"]');\n",
        "\t\t\n",
        "\t\tinsert into staff values(8718892831442613);\n",
        "\t\tinsert into staff values(7474862335619533);\n",
        "\t\tinsert into staff values(4953499291449932);\n",
        "\t\tinsert into staff values(4981840260436699);\n",
        "\t\tinsert into staff values(9448508654753811);\n",
        "\t\tinsert into staff values(6708015069552521);\n",
        "\t\tinsert into staff values(6555023229037065);\n",
        "\n",
        "\t\tinsert into chief values(8718892831442613);\n",
        "\n",
        "\t\tinsert into places values(253,'Norma Ports','wonder','baltimore',21215,8,10);\n",
        "\t\tinsert into places values(716 ,'Paucek Manors','wonder','baltimore',21218,10,10);\n",
        "\t\tinsert into places values(508,'Eula Points','wonder','baltimore',21216,4,1);\n",
        "\t\tinsert into places values(377,'Barton Gateway','land','DC',21008,1,4);\n",
        "\t\tinsert into places values(78,'Alexie Road','land','DC',21008,110,112);\n",
        "\t\tinsert into places values(87,'Alexie Road','land','DC',21008,118,118);\n",
        "\t\tinsert into places values(77,'cityLand','Megapolis','DC',21008,118,121);\n",
        "\n",
        "\t\tinsert into health_center values('2022-08-08',4,1,40,0);\n",
        "\t\tinsert into health_center values('2022-08-10',1,4,30,0);\n",
        "\t\tinsert into health_center values('2022-07-19',118,118,12,0);\n",
        "\n",
        "\t\tinsert into residency values (8,10,8718892831442613);\n",
        "\t\tinsert into residency values (8,10,7641563892621998);\n",
        "\t\tinsert into residency values (8,10,7474862335619533);\n",
        "\t\tinsert into residency values (8,10,4953499291449932);\n",
        "\t\tinsert into residency values (8,10,6708015069552521);\n",
        "\t\tinsert into residency values (8,10,9555023229037065);\n",
        "\t\tinsert into residency values (10,10,3673594352062092);\n",
        "\t\tinsert into residency values (10,10,8164679740878734);\n",
        "\t\tinsert into residency values (110,112,9448508654753811);\n",
        "\t\tinsert into residency values (110,112,6555023229037065);\n",
        "\t\tinsert into residency values (110,112,7940937800426551);\n",
        "\t\tinsert into residency values (110,112,6469128022378393);\n",
        "\t\tinsert into residency values (110,112,4981840260436699);\n",
        "\n",
        "\n",
        "\t\tinsert into registration values (8718892831442613,'2022-07-19',118,118);\n",
        "\t\tinsert into registration values (4953499291449932,'2022-07-19',118,118);\n",
        "\t\tinsert into registration values (4981840260436699,'2022-07-19',118,118);\n",
        "\t\tinsert into registration values (3673594352062092,'2022-08-10',1,4);\n",
        "\t\tinsert into registration values (7641563892621998,'2022-08-10',1,4);\n",
        "\t\tinsert into registration values (8164679740878734,'2022-08-10',1,4);\n",
        "\t\tinsert into registration values (7940937800426551,'2022-08-10',1,4);\n",
        "\t\tinsert into registration values (6469128022378393,'2022-08-10',1,4);\n",
        "\t\tinsert into registration values (9448508654753811,'2022-08-08',4,1);\n",
        "\t\tinsert into registration values (7474862335619533,'2022-08-08',4,1);\n",
        "\t\tinsert into registration values (6708015069552521,'2022-08-08',4,1);\n",
        "\t\tinsert into registration values (9555023229037065,'2022-08-08',4,1);\n",
        "\n",
        "\t\tinsert into dispatch values('2022-08-08', '10:00:00','15:00:00',6555023229037065,4,1,8718892831442613);\n",
        "\t\tinsert into dispatch values('2022-08-08','10:00:00','15:00:00',4981840260436699,4,1,8718892831442613);\n",
        "\t\tinsert into dispatch values('2022-08-08', '10:00:00','15:00:00',4953499291449932,4,1,8718892831442613);\n",
        "\t\tinsert into dispatch values('2022-07-19', '14:00:00','14:30:00',7474862335619533,118,118,8718892831442613);\n",
        "\t\tinsert into dispatch values('2022-07-19','14:00:00','14:30:00',6708015069552521,118,118,8718892831442613);\n",
        "\t\tinsert into dispatch values('2022-07-19','14:00:00','14:30:00',6555023229037065,118,118,8718892831442613);\n",
        "\t\tinsert into dispatch values('2022-08-10','12:00:00','14:00:00',9448508654753811,1,4,8718892831442613);\n",
        "\t\tinsert into dispatch values('2022-08-10','12:00:00','15:00:00',6555023229037065,1,4,8718892831442613);\n",
        "\t\tinsert into dispatch values('2022-08-10','12:00:00','15:00:00',4953499291449932,1,4,8718892831442613);\n",
        "\n",
        "\t\tinsert into modification values ('2021-12-15 06:00:00',8718892831442613,125);\n",
        "\t\tinsert into modification values ('2021-12-15 06:00:00',8718892831442613,126);\n",
        "\t\tinsert into modification values ('2021-12-15 06:00:00',8718892831442613,127);\n",
        "\n",
        "\t\tinsert into vaccine_order values(8718892831442613,125,3,'2020-12-15','2022-07-19',118,118);\n",
        "\t\tinsert into vaccine_order values(8718892831442613,126,5,'2020-12-15','2022-08-10',1,4);\n",
        "\t\tinsert into vaccine_order values(8718892831442613,127,3,'2020-12-15','2022-08-08',4,1);\n",
        "\n",
        "\n",
        "\n",
        "\"\"\")\n",
        "\n"
      ],
      "metadata": {
        "colab": {
          "base_uri": "https://localhost:8080/"
        },
        "id": "TbX_QRiHt8zW",
        "outputId": "a86eb539-535b-40c8-c1b3-85452de0f18c"
      },
      "execution_count": null,
      "outputs": [
        {
          "output_type": "execute_result",
          "data": {
            "text/plain": [
              "<sqlite3.Cursor at 0x7f41e3e4f0a0>"
            ]
          },
          "metadata": {},
          "execution_count": 60
        }
      ]
    },
    {
      "cell_type": "code",
      "source": [
        "cursor.execute(\"select * from vaccine_order;\")\n",
        "pizz = cursor.fetchall()\n",
        "print(pizz)"
      ],
      "metadata": {
        "colab": {
          "base_uri": "https://localhost:8080/"
        },
        "id": "Cb0snYf3V8jL",
        "outputId": "468cb5d7-3028-4e99-cb37-6a8b3097f3e3"
      },
      "execution_count": null,
      "outputs": [
        {
          "output_type": "stream",
          "name": "stdout",
          "text": [
            "[(8718892831442613, 125, 3, '2020-12-15', '2022-07-19', 118, 118), (8718892831442613, 126, 5, '2020-12-15', '2022-08-10', 1, 4), (8718892831442613, 127, 3, '2020-12-15', '2022-08-08', 4, 1)]\n"
          ]
        }
      ]
    },
    {
      "cell_type": "markdown",
      "source": [
        "1. staff can enter the information for a new health center.\n",
        "2. staff can modify their personal identifier of an existing individual.\n",
        "3. folks can register for their vaccination (ensure ACID).\n",
        "4. staff can delete an existing health center (and any other associated information\n",
        "automatically).\n",
        "5. staff can update the coordinates of a place"
      ],
      "metadata": {
        "id": "cB5JtnMk6yRA"
      }
    },
    {
      "cell_type": "code",
      "source": [
        "def newHealthCenter():\n",
        "  isExist = input(\"Is this a place existing the the database (N/Y)?\")\n",
        "  street_number = 0\n",
        "  name = \"\"\n",
        "  city = \"\"\n",
        "  zip = 0\n",
        "  cap = 0 \n",
        "  x_cord = 0 \n",
        "  y_cord = 0\n",
        "  if(isExist == 'N'):\n",
        "    street_number = input(\"what is the street number: \")\n",
        "    name = input(\"what is the street name: \")\n",
        "    city = input(\"What city is it located in: \")\n",
        "    state = input(\"what is the state: \")\n",
        "    zipCode = input(\"what is the zipcode: \")\n",
        "  x_cord = input(\"What is the X cordinate? \")\n",
        "  y_cord = input(\"What is the y cordinate? \")\n",
        "  date = input(\"what date is this health center open? (year-MM-DD)\")\n",
        "  cap = input(\"What is the max capacity? \")\n",
        "  \n",
        "  conn.isolation_level = \"DEFERRED\"\n",
        "  if(isExist == 'N'):\n",
        "    try:\n",
        "      cursor.execute(\"PRAGMA foreign_keys=ON\")\n",
        "      conn.commit()\n",
        "      cursor.execute(\"INSERT INTO places('street_number','name','city','state','zipCode','x_cord','y_cord') VALUES (?,?,?,?,?,?,?)\", (street_number,name,city,state,zipCode,x_cord,y_cord))\n",
        "      cursor.execute(\"INSERT INTO health_center(hc_date,x_cord,y_cord,max_capacity,curr_size)VALUES (?,?,?,?,?)\",(date,x_cord,y_cord,cap,0))\n",
        "      conn.commit()\n",
        "      print(\"Success\")\n",
        "    except sqlite3.Error as error:\n",
        "      print(\"UNABLE TO ADD NEW PLACE AND HEALTH CENTER: \", error)\n",
        "      conn.rollback()\n",
        "\n",
        "  else:\n",
        "    try:\n",
        "      cursor.execute(\"PRAGMA foreign_keys=ON\")\n",
        "      conn.commit()\n",
        "      cursor.execute(\"INSERT INTO health_center(hc_date,x_cord,y_cord,max_capacity,curr_size)VALUES (?,?,?,?,?)\",(date,x_cord,y_cord,cap,0))\n",
        "      conn.commit()\n",
        "      print(\"Success\")\n",
        "    except sqlite3.Error as error:\n",
        "      print(\"UNABLE TO ADD NEW HEALTH CENTER: \", error)\n",
        "      conn.rollback()\n",
        "    finally:\n",
        "      conn.isolation_level = None\n",
        "    "
      ],
      "metadata": {
        "id": "OpPjsi9bsa5g"
      },
      "execution_count": null,
      "outputs": []
    },
    {
      "cell_type": "code",
      "source": [
        "def mod_identifier():\n",
        "  oldPin = input(\"What is the pin that you want to update: \")\n",
        "  newPin = input(\"What is the new pin(16 digits): \")\n",
        "  conn.isolation_level = \"DEFERRED\"\n",
        "  try:\n",
        "    cursor.execute(\"PRAGMA foreign_keys=ON\")\n",
        "    conn.commit()\n",
        "    cursor.execute(\"UPDATE folks SET PIN = ? WHERE PIN = ?\", (newPin,oldPin))\n",
        "    conn.commit()\n",
        "    print(\"Success\")\n",
        "  except sqlite3.Error as error:\n",
        "    print(\"UNABLE TO UPDATE FOLKS \", error)\n",
        "    conn.rollback()\n",
        "  finally:\n",
        "      conn.isolation_level = None"
      ],
      "metadata": {
        "id": "28ZFBrSDIkfz"
      },
      "execution_count": null,
      "outputs": []
    },
    {
      "cell_type": "code",
      "source": [
        "def delete_health_center():\n",
        "  x = input(\"what is the x cordinate: \")\n",
        "  y = input(\"what is the y cordinate: \")\n",
        "\n",
        "  conn.isolation_level = \"DEFERRED\"\n",
        "  try:\n",
        "    cursor.execute(\"PRAGMA foreign_keys = ON;\");\n",
        "    conn.commit()\n",
        "    cursor.execute(\"DELETE FROM health_center WHERE x_cord = ? and y_cord = ?\", (x,y))\n",
        "    conn.commit()\n",
        "    print(\"Deleted all health_center with cordinates: \",x,\",\",y)\n",
        "  except sqlite3.Error as error:\n",
        "    print(\"UNABLE TO DELETE \", error)\n",
        "    conn.rollback()\n",
        "  finally:\n",
        "      conn.isolation_level = None"
      ],
      "metadata": {
        "id": "u5RUHblj4Sht"
      },
      "execution_count": null,
      "outputs": []
    },
    {
      "cell_type": "code",
      "source": [
        "def update_cordinates():\n",
        "  oldx = input(\"what is the old x cordinate: \")\n",
        "  oldy= input(\"what is the old y cordinate: \")\n",
        "  newx = input(\"what is the new x cordinate: \")\n",
        "  newy= input(\"what is the new y cordinate: \")\n",
        "  conn.isolation_level = \"DEFERRED\"\n",
        "  try:\n",
        "    cursor.execute(\"UPDATE places SET x_cord = ?, y_cord = ? WHERE x_cord = ? and y_cord = ? \", (newx,newy,oldx,oldy))\n",
        "    conn.commit()\n",
        "  except sqlite3.Error as error:\n",
        "    print(\"UNABLE TO UPDATE \", error)\n",
        "    conn.rollback()\n",
        "  finally:\n",
        "      conn.isolation_level = None\n",
        "  "
      ],
      "metadata": {
        "id": "PF_gjq_y7crp"
      },
      "execution_count": null,
      "outputs": []
    },
    {
      "cell_type": "code",
      "source": [
        "def register():\n",
        "  tester = 0\n",
        "\n",
        "  print(\"This is the list of open health centers: \")\n",
        "  cursor.execute(\"SELECT hc_date,x_cord,y_cord,street_number,name,city,state,zipcode FROM health_center NATURAL JOIN places WHERE curr_size < max_capacity\")\n",
        "  rows = cursor.fetchall()\n",
        "  for row in rows:\n",
        "    print(\"Date: \", row[0], \"Address: \", row[3], row[4],row[5],row[6],row[7], \"(\" ,row[1], \",\",row[2], \")\")\n",
        "\n",
        " \n",
        "  x = input(\"Enter the X coordinate of the health center of your choice: \")\n",
        "  y = input(\"Enter the Y coordinate of the health center of your choice: \")\n",
        "  conn.isolation_level = \"DEFERRED\"\n",
        "  try:\n",
        "    cursor.execute(\"SELECT street_number,name,city,state,zipcode,x_cord,y_cord FROM health_center NATURAL JOIN places WHERE curr_size < max_capacity and x_cord = ? and y_cord = ?\",(x,y))\n",
        "    conn.commit()\n",
        "    addr = cursor.fetchall()\n",
        "    if(len(addr) > 0):\n",
        "      print(addr)\n",
        "      print(\"The address for your cordinate and location is:\",addr[0][0],addr[0][1], addr[0][2],addr[0][3],addr[0][4], \"(\" ,addr[0][5], \",\",addr[0][6], \")\")\n",
        "    else:\n",
        "      tester = 1\n",
        "      print(\"No address was selected.\")\n",
        "  except sqlite3.Error as error:\n",
        "    print(\"UNABLE TO FIND ADDRESS \", error)\n",
        "    conn.rollback()\n",
        "  finally:\n",
        "      conn.isolation_level = None\n",
        "  \n",
        "  if tester == 0:\n",
        "    conn.isolation_level = \"DEFERRED\"\n",
        "    try:\n",
        "      date = input(\"what date do you want? \")\n",
        "      pin = input(\"what is your PIN (16 digit): \")\n",
        "      cursor.execute(\"PRAGMA foreign_keys=ON\")\n",
        "      conn.commit()\n",
        "      cursor.execute(\"insert into registration(PIN,r_date,x_cord,y_cord) values(?,?,?,?)\",(pin,date,x,y))\n",
        "      conn.commit()\n",
        "    except sqlite3.Error as error:\n",
        "      print(\"UNABLE TO REGISTER\", error)\n",
        "      conn.rollback()\n",
        "    finally:\n",
        "        conn.isolation_level = None\n",
        "\n"
      ],
      "metadata": {
        "id": "CcB3Uem3dlvX"
      },
      "execution_count": null,
      "outputs": []
    },
    {
      "cell_type": "code",
      "source": [
        "# to varify user\n",
        "pin = input(\"Enter your pin: \")\n",
        "staff = []\n",
        "folk = []\n",
        "\n",
        "cursor.execute(\"select * from staff where S_PIN = ?\",[pin])\n",
        "staff = cursor.fetchall()\n",
        "if(len(staff) == 0):\n",
        "  cursor.execute(\"select * from folks where PIN = ?\",[pin])\n",
        "  folk = cursor.fetchall()\n",
        "\n",
        "if(len(staff) > 0):\n",
        "  print(\"1. Enter the information for a new health center.\")\n",
        "  print(\"2. Modify their personal identifier of an existing individual.\")\n",
        "  print(\"3. Delete an existing health center\")\n",
        "  print(\"4. Update the coordinates of a place\")\n",
        "  print(\"5. Register for your vaccination\")\n",
        "  choice = input(\"What do you want to do, chose a number\")\n",
        "  if choice == '1':\n",
        "    newHealthCenter()\n",
        "  elif choice == '2':\n",
        "    mod_identifier()\n",
        "  elif choice == '3':\n",
        "    delete_health_center()\n",
        "  elif choice == '4':\n",
        "    update_cordinates()\n",
        "  elif choice == '5':  \n",
        "    register()\n",
        "elif(len(folk) > 0):\n",
        "  print(\"Registering for your vaccination\")\n",
        "  register()\n",
        "\n",
        "conn.close()"
      ],
      "metadata": {
        "colab": {
          "base_uri": "https://localhost:8080/"
        },
        "id": "MXAqgWgBLGoy",
        "outputId": "aebe5f53-332b-4469-c50b-3a5856532176"
      },
      "execution_count": null,
      "outputs": [
        {
          "name": "stdout",
          "output_type": "stream",
          "text": [
            "Enter your pin: 8718892831442613\n",
            "1. Enter the information for a new health center.\n",
            "2. Modify their personal identifier of an existing individual.\n",
            "3. Delete an existing health center\n",
            "4. Update the coordinates of a place\n",
            "5. Register for your vaccination\n",
            "What do you want to do, chose a number5\n",
            "This is the list of open health centers: \n",
            "Date:  2022-08-08 Address:  508 Eula Points wonder baltimore 21216 ( 4 , 1 )\n",
            "Date:  2022-08-10 Address:  377 Barton Gateway land DC 21008 ( 1 , 4 )\n",
            "Date:  2022-07-19 Address:  87 Alexie Road land DC 21008 ( 118 , 118 )\n",
            "Enter the X coordinate of the health center of your choice: 4\n",
            "Enter the Y coordinate of the health center of your choice: 1\n",
            "[(508, 'Eula Points', 'wonder', 'baltimore', 21216, 4, 1)]\n",
            "The address for your cordinate and location is: 508 Eula Points wonder baltimore 21216 ( 4 , 1 )\n",
            "what date do you want? 2022-08-08\n",
            "what is your PIN (16 digit): 8718892831442613\n"
          ]
        }
      ]
    },
    {
      "cell_type": "code",
      "source": [
        "%load_ext sql\n",
        "connection_url = 'sqlite:///mydatabase.db'\n",
        "%sql {connection_url}"
      ],
      "metadata": {
        "colab": {
          "base_uri": "https://localhost:8080/",
          "height": 70
        },
        "id": "TTzi8CNDNM2V",
        "outputId": "26ce5a8e-cfed-4b78-ee3c-90211e42bd82"
      },
      "execution_count": null,
      "outputs": [
        {
          "output_type": "stream",
          "name": "stdout",
          "text": [
            "The sql extension is already loaded. To reload it, use:\n",
            "  %reload_ext sql\n"
          ]
        },
        {
          "output_type": "execute_result",
          "data": {
            "application/vnd.google.colaboratory.intrinsic+json": {
              "type": "string"
            },
            "text/plain": [
              "'Connected: @mydatabase.db'"
            ]
          },
          "metadata": {},
          "execution_count": 44
        }
      ]
    },
    {
      "cell_type": "code",
      "source": [
        "%%sql\n",
        "select * from registration;"
      ],
      "metadata": {
        "colab": {
          "base_uri": "https://localhost:8080/",
          "height": 346
        },
        "id": "IWh39Tt6Ng3o",
        "outputId": "f64fee3f-e97e-4773-d4d1-a63da45d5e03"
      },
      "execution_count": null,
      "outputs": [
        {
          "output_type": "stream",
          "name": "stdout",
          "text": [
            " * sqlite:///mydatabase.db\n",
            "Done.\n"
          ]
        },
        {
          "output_type": "execute_result",
          "data": {
            "text/html": [
              "<table>\n",
              "    <thead>\n",
              "        <tr>\n",
              "            <th>PIN</th>\n",
              "            <th>r_date</th>\n",
              "            <th>x_cord</th>\n",
              "            <th>y_cord</th>\n",
              "        </tr>\n",
              "    </thead>\n",
              "    <tbody>\n",
              "        <tr>\n",
              "            <td>8718892831442613</td>\n",
              "            <td>2022-07-19</td>\n",
              "            <td>118</td>\n",
              "            <td>118</td>\n",
              "        </tr>\n",
              "        <tr>\n",
              "            <td>4953499291449932</td>\n",
              "            <td>2022-07-19</td>\n",
              "            <td>118</td>\n",
              "            <td>118</td>\n",
              "        </tr>\n",
              "        <tr>\n",
              "            <td>4981840260436699</td>\n",
              "            <td>2022-07-19</td>\n",
              "            <td>118</td>\n",
              "            <td>118</td>\n",
              "        </tr>\n",
              "        <tr>\n",
              "            <td>3673594352062092</td>\n",
              "            <td>2022-08-10</td>\n",
              "            <td>1</td>\n",
              "            <td>4</td>\n",
              "        </tr>\n",
              "        <tr>\n",
              "            <td>7641563892621998</td>\n",
              "            <td>2022-08-10</td>\n",
              "            <td>1</td>\n",
              "            <td>4</td>\n",
              "        </tr>\n",
              "        <tr>\n",
              "            <td>8164679740878734</td>\n",
              "            <td>2022-08-10</td>\n",
              "            <td>1</td>\n",
              "            <td>4</td>\n",
              "        </tr>\n",
              "        <tr>\n",
              "            <td>7940937800426551</td>\n",
              "            <td>2022-08-10</td>\n",
              "            <td>1</td>\n",
              "            <td>4</td>\n",
              "        </tr>\n",
              "        <tr>\n",
              "            <td>6469128022378393</td>\n",
              "            <td>2022-08-10</td>\n",
              "            <td>1</td>\n",
              "            <td>4</td>\n",
              "        </tr>\n",
              "        <tr>\n",
              "            <td>9448508654753811</td>\n",
              "            <td>2022-08-08</td>\n",
              "            <td>4</td>\n",
              "            <td>1</td>\n",
              "        </tr>\n",
              "        <tr>\n",
              "            <td>7474862335619533</td>\n",
              "            <td>2022-08-08</td>\n",
              "            <td>4</td>\n",
              "            <td>1</td>\n",
              "        </tr>\n",
              "        <tr>\n",
              "            <td>6708015069552521</td>\n",
              "            <td>2022-08-08</td>\n",
              "            <td>4</td>\n",
              "            <td>1</td>\n",
              "        </tr>\n",
              "        <tr>\n",
              "            <td>9555023229037065</td>\n",
              "            <td>2022-08-08</td>\n",
              "            <td>4</td>\n",
              "            <td>1</td>\n",
              "        </tr>\n",
              "        <tr>\n",
              "            <td>8718892831442613</td>\n",
              "            <td>2022-08-08</td>\n",
              "            <td>4</td>\n",
              "            <td>1</td>\n",
              "        </tr>\n",
              "    </tbody>\n",
              "</table>"
            ],
            "text/plain": [
              "[(8718892831442613, '2022-07-19', 118, 118),\n",
              " (4953499291449932, '2022-07-19', 118, 118),\n",
              " (4981840260436699, '2022-07-19', 118, 118),\n",
              " (3673594352062092, '2022-08-10', 1, 4),\n",
              " (7641563892621998, '2022-08-10', 1, 4),\n",
              " (8164679740878734, '2022-08-10', 1, 4),\n",
              " (7940937800426551, '2022-08-10', 1, 4),\n",
              " (6469128022378393, '2022-08-10', 1, 4),\n",
              " (9448508654753811, '2022-08-08', 4, 1),\n",
              " (7474862335619533, '2022-08-08', 4, 1),\n",
              " (6708015069552521, '2022-08-08', 4, 1),\n",
              " (9555023229037065, '2022-08-08', 4, 1),\n",
              " (8718892831442613, '2022-08-08', 4, 1)]"
            ]
          },
          "metadata": {},
          "execution_count": 48
        }
      ]
    },
    {
      "cell_type": "code",
      "source": [
        "%%sql\n",
        "drop index index_folks;\n",
        "drop table if exists dispatch;\n",
        "drop table if exists modification;\n",
        "drop table if exists vaccine_order;\n",
        "drop table if exists chief;\n",
        "drop table if exists staff;\n",
        "drop table if exists Registration;\n",
        "drop table if exists residency;\n",
        "drop table if exists folks;\n",
        "drop table if exists health_center;\n",
        "drop table if exists places;\n",
        "drop trigger if exists update_staff;\n",
        "drop trigger if exists update_folks;\n",
        "drop trigger if exists update_place;\n",
        "drop trigger if exists update_health_center;\n",
        "drop trigger if exists new_registration;\n",
        "drop trigger if exists insert_mod;\n"
      ],
      "metadata": {
        "colab": {
          "base_uri": "https://localhost:8080/"
        },
        "id": "s9Hi2WUCNu_K",
        "outputId": "658f1c3b-89a4-4999-bf99-80fb9ba6c48a"
      },
      "execution_count": null,
      "outputs": [
        {
          "output_type": "stream",
          "name": "stdout",
          "text": [
            " * sqlite:///mydatabase.db\n",
            "Done.\n",
            "Done.\n",
            "Done.\n",
            "Done.\n",
            "Done.\n",
            "Done.\n",
            "Done.\n",
            "Done.\n",
            "Done.\n",
            "Done.\n",
            "Done.\n",
            "Done.\n",
            "Done.\n",
            "Done.\n",
            "Done.\n",
            "Done.\n",
            "Done.\n"
          ]
        },
        {
          "output_type": "execute_result",
          "data": {
            "text/plain": [
              "[]"
            ]
          },
          "metadata": {},
          "execution_count": 61
        }
      ]
    }
  ]
}